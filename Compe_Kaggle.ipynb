{
 "cells": [
  {
   "cell_type": "markdown",
   "metadata": {},
   "source": [
    "## Imports"
   ]
  },
  {
   "cell_type": "code",
   "execution_count": 8,
   "metadata": {},
   "outputs": [],
   "source": [
    "from sklearn.pipeline import Pipeline\n",
    "import bootcampviztools as bt\n",
    "import matplotlib.pyplot as plt\n",
    "import numpy as np\n",
    "import pandas as pd\n",
    "import seaborn as sns\n",
    "import Toolbox_ML as tb\n",
    "import lightgbm as lgb\n",
    "\n",
    "from collections import Counter\n",
    "from lightgbm import LGBMClassifier, LGBMRegressor\n",
    "from scipy import stats\n",
    "from sklearn.decomposition import PCA\n",
    "from sklearn.ensemble import RandomForestClassifier, RandomForestRegressor\n",
    "from sklearn.linear_model import LogisticRegression\n",
    "from sklearn.feature_selection import VarianceThreshold, SelectKBest, f_classif, SelectFromModel, RFE, SequentialFeatureSelector\n",
    "from sklearn.metrics import mutual_info_score, classification_report\n",
    "from sklearn.model_selection import train_test_split, cross_val_score, GridSearchCV\n",
    "from xgboost import XGBClassifier, XGBRegressor\n",
    "from sklearn.preprocessing import OneHotEncoder\n",
    "from sklearn.preprocessing import StandardScaler\n",
    "from sklearn.neighbors import KNeighborsClassifier\n",
    "from sklearn.metrics import median_absolute_error, mean_squared_error, mean_absolute_error\n",
    "from sklearn.compose import ColumnTransformer\n",
    "from sklearn.feature_selection import SelectKBest, SelectFromModel, f_regression\n",
    "from catboost import CatBoostRegressor\n",
    "import pickle\n",
    "import warnings\n",
    "warnings.filterwarnings(\"ignore\")\n",
    "import re\n",
    "from sklearn.compose import make_column_selector as selector"
   ]
  },
  {
   "cell_type": "markdown",
   "metadata": {},
   "source": [
    "## Limpieza del train"
   ]
  },
  {
   "cell_type": "code",
   "execution_count": 9,
   "metadata": {},
   "outputs": [],
   "source": [
    "df = pd.read_csv(\"./data/train.csv\")"
   ]
  },
  {
   "cell_type": "markdown",
   "metadata": {},
   "source": [
    "#### Funciones de limpieza"
   ]
  },
  {
   "cell_type": "code",
   "execution_count": 10,
   "metadata": {},
   "outputs": [],
   "source": [
    "# Función para convertir las capacidades a GBs y hacerlas numéricas\n",
    "def convert_capacity(capacity_str):\n",
    "    if 'tb' in capacity_str:\n",
    "        return float(capacity_str.replace('tb', '').strip()) * 1000\n",
    "    elif 'gb' in capacity_str:\n",
    "        return float(capacity_str.replace('gb', '').strip())\n",
    "    else:\n",
    "        return 0\n",
    "\n",
    "# Función para descomponer cada entrada en los componentes especificados\n",
    "def decompose_info(row):\n",
    "    # Buscar la capacidad de almacenamiento\n",
    "    capacities = re.findall(r'\\d+(?:\\.\\d+)?[tg]b', row)\n",
    "    total_capacity = sum(convert_capacity(c) for c in capacities)\n",
    "    \n",
    "    # Buscar el tipo de almacenamiento\n",
    "    if 'ssd' in row and 'hdd' in row:\n",
    "        storage_type = 'ssd/hdd'\n",
    "    elif 'SSD' in row and 'hybrid' in row:\n",
    "        storage_type = 'SSD/Hybrid'\n",
    "    elif 'hdd' in row and 'flash storage' in row:\n",
    "        storage_type = 'hdd/flash storage'\n",
    "    elif 'ssd' in row:\n",
    "        storage_type = 'ssd'\n",
    "    elif 'hdd' in row:\n",
    "        storage_type = 'hdd'\n",
    "    elif 'flash storage' in row:\n",
    "        storage_type = 'flash storage'\n",
    "    elif 'hybrid' in row:\n",
    "        storage_type = 'hybrid'\n",
    "    \n",
    "    # Buscar la combinación de almacenamiento\n",
    "    if '+' in row:\n",
    "        multiple_storage = True\n",
    "    else:\n",
    "        multiple_storage = False\n",
    "    \n",
    "    return pd.Series([total_capacity, storage_type, multiple_storage])\n",
    "\n",
    "def split_info(row):\n",
    "    # Extraer marca (Intel o AMD)\n",
    "    if 'intel' in row:\n",
    "        brand = 'intel'\n",
    "    elif 'amd' in row:\n",
    "        brand = 'amd'\n",
    "    else:\n",
    "        brand = None\n",
    "    \n",
    "    # Extraer frecuencia (con Ghz)\n",
    "    ghz = re.search(r'\\d+(\\.\\d+)?ghz', row)\n",
    "    ghz = ghz.group() if ghz else None\n",
    "    \n",
    "    # Extraer el resto\n",
    "    rest = row\n",
    "    if brand:\n",
    "        rest = rest.replace(brand, '').strip()\n",
    "    if ghz:\n",
    "        rest = rest.replace(ghz, '').strip()\n",
    "    \n",
    "    return pd.Series([brand, ghz, rest])\n",
    "\n",
    "def split_info_2(row):\n",
    "    # Extraer marca (Intel Nvidia o AMD)\n",
    "    if 'intel' in row:\n",
    "        brand = 'intel'\n",
    "    elif 'amd' in row:\n",
    "        brand = 'amd'\n",
    "    elif 'nvidia' in row:\n",
    "        brand = 'nvidia'\n",
    "    else:\n",
    "        brand = None\n",
    "    \n",
    "    # Extraer el resto\n",
    "    rest = row\n",
    "    if brand:\n",
    "        rest = rest.replace(brand, '').strip()\n",
    "    \n",
    "    return pd.Series([brand, rest])\n",
    "\n",
    "def decompose_info_2(row):\n",
    "    # Buscar resolución en el formato \"????x????\"\n",
    "    resolution = re.search(r'\\b\\d{3,4}x\\d{3,4}\\b', row)\n",
    "    resolution = resolution.group() if resolution else None\n",
    "\n",
    "    # Determinar el tipo de panel\n",
    "    panel_type = 'ips Panel' in row\n",
    "    \n",
    "    # Determinar la calidad de imagen\n",
    "    if '4k ultra hd' in row:\n",
    "        quality = '4k ultra hd'\n",
    "    elif 'quad hd+' in row:\n",
    "        quality = 'quad hd+'\n",
    "    elif 'full hd' in row:\n",
    "        quality = 'full hd'\n",
    "    elif 'hd' in row:\n",
    "        quality = 'hd'\n",
    "    else:\n",
    "        quality = None\n",
    "    \n",
    "    # Determinar si es Touchscreen\n",
    "    is_touchscreen = 'touchscreen' in row\n",
    "    \n",
    "    return pd.Series([resolution, panel_type, quality, is_touchscreen])"
   ]
  },
  {
   "cell_type": "markdown",
   "metadata": {},
   "source": [
    "#### Target x e y"
   ]
  },
  {
   "cell_type": "code",
   "execution_count": 11,
   "metadata": {},
   "outputs": [],
   "source": [
    "target = 'Price_euros'\n",
    "X = df.drop(target, axis = 1)\n",
    "y = df[target]"
   ]
  },
  {
   "cell_type": "markdown",
   "metadata": {},
   "source": [
    "#### Creación de nuevas columnas"
   ]
  },
  {
   "cell_type": "code",
   "execution_count": 12,
   "metadata": {},
   "outputs": [],
   "source": [
    "# Hago todos los valores minúsculas\n",
    "X = X.applymap(lambda x: x.lower() if isinstance(x, str) else x)\n",
    "\n",
    "# Descompongo Memory, Cpu, Gpu, ScreenResolution y Product\n",
    "X[['Capacity', 'Storage Type', 'Multiple Storage']] = X['Memory'].apply(decompose_info)\n",
    "X[['Marca CPU', 'GHz CPU', 'Modelo CPU']] = X['Cpu'].apply(split_info)\n",
    "X[['Marca GPU', 'Modelo GPU']] = X['Gpu'].apply(split_info_2)\n",
    "X[['Modelo CPU', 'Submodelo CPU']] = X['Modelo CPU'].str.rsplit(n=1, expand=True)\n",
    "X[['Modelo GPU', 'Submodelo GPU']] = X['Modelo GPU'].str.rsplit(n=1, expand=True)\n",
    "X[['Resolution', 'Panel Type', 'Quality', 'Touchscreen']] = X['ScreenResolution'].apply(decompose_info_2)\n",
    "X[['Modelo', 'Submodelo']] = X['Product'].str.extract(r'(\\w+)\\s*(.*)')\n",
    "X['Submodelo'] = X['Submodelo'].str.replace('-', ' ').str.split('(').str[0].str.strip()\n",
    "\n",
    "# Quito GHz, GB y Kg de estas columnas\n",
    "X['GHz CPU'] = X['GHz CPU'].str.replace('ghz','',regex=False)\n",
    "X['GHz CPU'] = X['GHz CPU'].astype(float)\n",
    "X.Weight = X.Weight.str.replace('kg','',regex=False)\n",
    "X.Weight = X.Weight.astype(float)\n",
    "X.Ram = X.Ram.str.replace('gb','',regex=False)\n",
    "X.Ram = X.Ram.astype(float)\n",
    "\n",
    "# Los valores vacíos los transformo en None\n",
    "X.replace(r'^\\s*$', None, regex=True, inplace=True)"
   ]
  },
  {
   "cell_type": "code",
   "execution_count": 13,
   "metadata": {},
   "outputs": [
    {
     "data": {
      "text/plain": [
       "array(['intel', 'amd'], dtype=object)"
      ]
     },
     "execution_count": 13,
     "metadata": {},
     "output_type": "execute_result"
    }
   ],
   "source": [
    "X['Marca CPU'].unique()"
   ]
  },
  {
   "cell_type": "markdown",
   "metadata": {},
   "source": [
    "#### Drop de columnas antiguas"
   ]
  },
  {
   "cell_type": "code",
   "execution_count": 14,
   "metadata": {},
   "outputs": [],
   "source": [
    "X = X.drop(columns=['laptop_ID', 'id', 'ScreenResolution', 'Cpu', 'Memory', 'Gpu', 'Product'])"
   ]
  },
  {
   "cell_type": "code",
   "execution_count": 15,
   "metadata": {},
   "outputs": [
    {
     "data": {
      "text/html": [
       "<div>\n",
       "<style scoped>\n",
       "    .dataframe tbody tr th:only-of-type {\n",
       "        vertical-align: middle;\n",
       "    }\n",
       "\n",
       "    .dataframe tbody tr th {\n",
       "        vertical-align: top;\n",
       "    }\n",
       "\n",
       "    .dataframe thead th {\n",
       "        text-align: right;\n",
       "    }\n",
       "</style>\n",
       "<table border=\"1\" class=\"dataframe\">\n",
       "  <thead>\n",
       "    <tr style=\"text-align: right;\">\n",
       "      <th></th>\n",
       "      <th>Company</th>\n",
       "      <th>TypeName</th>\n",
       "      <th>Inches</th>\n",
       "      <th>Ram</th>\n",
       "      <th>OpSys</th>\n",
       "      <th>Weight</th>\n",
       "      <th>Capacity</th>\n",
       "      <th>Storage Type</th>\n",
       "      <th>Multiple Storage</th>\n",
       "      <th>Marca CPU</th>\n",
       "      <th>...</th>\n",
       "      <th>Marca GPU</th>\n",
       "      <th>Modelo GPU</th>\n",
       "      <th>Submodelo CPU</th>\n",
       "      <th>Submodelo GPU</th>\n",
       "      <th>Resolution</th>\n",
       "      <th>Panel Type</th>\n",
       "      <th>Quality</th>\n",
       "      <th>Touchscreen</th>\n",
       "      <th>Modelo</th>\n",
       "      <th>Submodelo</th>\n",
       "    </tr>\n",
       "  </thead>\n",
       "  <tbody>\n",
       "    <tr>\n",
       "      <th>0</th>\n",
       "      <td>dell</td>\n",
       "      <td>notebook</td>\n",
       "      <td>15.6</td>\n",
       "      <td>8.0</td>\n",
       "      <td>windows 10</td>\n",
       "      <td>2.36</td>\n",
       "      <td>1000.0</td>\n",
       "      <td>hdd</td>\n",
       "      <td>False</td>\n",
       "      <td>intel</td>\n",
       "      <td>...</td>\n",
       "      <td>amd</td>\n",
       "      <td>radeon r7</td>\n",
       "      <td>7500u</td>\n",
       "      <td>m445</td>\n",
       "      <td>1366x768</td>\n",
       "      <td>False</td>\n",
       "      <td>None</td>\n",
       "      <td>False</td>\n",
       "      <td>inspiron</td>\n",
       "      <td>5567</td>\n",
       "    </tr>\n",
       "    <tr>\n",
       "      <th>1</th>\n",
       "      <td>asus</td>\n",
       "      <td>notebook</td>\n",
       "      <td>15.6</td>\n",
       "      <td>4.0</td>\n",
       "      <td>windows 10</td>\n",
       "      <td>2.00</td>\n",
       "      <td>1000.0</td>\n",
       "      <td>hdd</td>\n",
       "      <td>False</td>\n",
       "      <td>intel</td>\n",
       "      <td>...</td>\n",
       "      <td>intel</td>\n",
       "      <td>hd graphics</td>\n",
       "      <td>n4200</td>\n",
       "      <td>505</td>\n",
       "      <td>1366x768</td>\n",
       "      <td>False</td>\n",
       "      <td>None</td>\n",
       "      <td>False</td>\n",
       "      <td>x541na</td>\n",
       "      <td>None</td>\n",
       "    </tr>\n",
       "    <tr>\n",
       "      <th>2</th>\n",
       "      <td>toshiba</td>\n",
       "      <td>notebook</td>\n",
       "      <td>13.3</td>\n",
       "      <td>8.0</td>\n",
       "      <td>windows 7</td>\n",
       "      <td>1.20</td>\n",
       "      <td>256.0</td>\n",
       "      <td>ssd</td>\n",
       "      <td>False</td>\n",
       "      <td>intel</td>\n",
       "      <td>...</td>\n",
       "      <td>intel</td>\n",
       "      <td>hd graphics</td>\n",
       "      <td>6200u</td>\n",
       "      <td>520</td>\n",
       "      <td>1920x1080</td>\n",
       "      <td>False</td>\n",
       "      <td>full hd</td>\n",
       "      <td>False</td>\n",
       "      <td>portege</td>\n",
       "      <td>z30 c 1cw</td>\n",
       "    </tr>\n",
       "    <tr>\n",
       "      <th>3</th>\n",
       "      <td>dell</td>\n",
       "      <td>gaming</td>\n",
       "      <td>15.6</td>\n",
       "      <td>16.0</td>\n",
       "      <td>windows 10</td>\n",
       "      <td>4.42</td>\n",
       "      <td>1256.0</td>\n",
       "      <td>ssd/hdd</td>\n",
       "      <td>True</td>\n",
       "      <td>intel</td>\n",
       "      <td>...</td>\n",
       "      <td>nvidia</td>\n",
       "      <td>geforce gtx</td>\n",
       "      <td>7700hq</td>\n",
       "      <td>1070</td>\n",
       "      <td>3840x2160</td>\n",
       "      <td>False</td>\n",
       "      <td>4k ultra hd</td>\n",
       "      <td>False</td>\n",
       "      <td>alienware</td>\n",
       "      <td>17</td>\n",
       "    </tr>\n",
       "    <tr>\n",
       "      <th>4</th>\n",
       "      <td>dell</td>\n",
       "      <td>ultrabook</td>\n",
       "      <td>12.5</td>\n",
       "      <td>8.0</td>\n",
       "      <td>windows 7</td>\n",
       "      <td>1.26</td>\n",
       "      <td>256.0</td>\n",
       "      <td>ssd</td>\n",
       "      <td>False</td>\n",
       "      <td>intel</td>\n",
       "      <td>...</td>\n",
       "      <td>intel</td>\n",
       "      <td>hd graphics</td>\n",
       "      <td>6300u</td>\n",
       "      <td>520</td>\n",
       "      <td>1920x1080</td>\n",
       "      <td>False</td>\n",
       "      <td>full hd</td>\n",
       "      <td>True</td>\n",
       "      <td>latitude</td>\n",
       "      <td>e7270</td>\n",
       "    </tr>\n",
       "    <tr>\n",
       "      <th>...</th>\n",
       "      <td>...</td>\n",
       "      <td>...</td>\n",
       "      <td>...</td>\n",
       "      <td>...</td>\n",
       "      <td>...</td>\n",
       "      <td>...</td>\n",
       "      <td>...</td>\n",
       "      <td>...</td>\n",
       "      <td>...</td>\n",
       "      <td>...</td>\n",
       "      <td>...</td>\n",
       "      <td>...</td>\n",
       "      <td>...</td>\n",
       "      <td>...</td>\n",
       "      <td>...</td>\n",
       "      <td>...</td>\n",
       "      <td>...</td>\n",
       "      <td>...</td>\n",
       "      <td>...</td>\n",
       "      <td>...</td>\n",
       "      <td>...</td>\n",
       "    </tr>\n",
       "    <tr>\n",
       "      <th>907</th>\n",
       "      <td>acer</td>\n",
       "      <td>2 in 1 convertible</td>\n",
       "      <td>11.6</td>\n",
       "      <td>4.0</td>\n",
       "      <td>chrome os</td>\n",
       "      <td>1.25</td>\n",
       "      <td>32.0</td>\n",
       "      <td>flash storage</td>\n",
       "      <td>False</td>\n",
       "      <td>intel</td>\n",
       "      <td>...</td>\n",
       "      <td>intel</td>\n",
       "      <td>hd graphics</td>\n",
       "      <td>n3060</td>\n",
       "      <td>400</td>\n",
       "      <td>1366x768</td>\n",
       "      <td>False</td>\n",
       "      <td>None</td>\n",
       "      <td>True</td>\n",
       "      <td>chromebook</td>\n",
       "      <td>c738t c2ej</td>\n",
       "    </tr>\n",
       "    <tr>\n",
       "      <th>908</th>\n",
       "      <td>toshiba</td>\n",
       "      <td>notebook</td>\n",
       "      <td>13.3</td>\n",
       "      <td>4.0</td>\n",
       "      <td>windows 10</td>\n",
       "      <td>1.20</td>\n",
       "      <td>128.0</td>\n",
       "      <td>ssd</td>\n",
       "      <td>False</td>\n",
       "      <td>intel</td>\n",
       "      <td>...</td>\n",
       "      <td>intel</td>\n",
       "      <td>hd graphics</td>\n",
       "      <td>6200u</td>\n",
       "      <td>520</td>\n",
       "      <td>1920x1080</td>\n",
       "      <td>False</td>\n",
       "      <td>full hd</td>\n",
       "      <td>False</td>\n",
       "      <td>portege</td>\n",
       "      <td>z30 c 16h</td>\n",
       "    </tr>\n",
       "    <tr>\n",
       "      <th>909</th>\n",
       "      <td>acer</td>\n",
       "      <td>notebook</td>\n",
       "      <td>15.6</td>\n",
       "      <td>8.0</td>\n",
       "      <td>windows 10</td>\n",
       "      <td>2.40</td>\n",
       "      <td>1000.0</td>\n",
       "      <td>hdd</td>\n",
       "      <td>False</td>\n",
       "      <td>amd</td>\n",
       "      <td>...</td>\n",
       "      <td>amd</td>\n",
       "      <td>radeon</td>\n",
       "      <td>7410</td>\n",
       "      <td>r5</td>\n",
       "      <td>1366x768</td>\n",
       "      <td>False</td>\n",
       "      <td>None</td>\n",
       "      <td>False</td>\n",
       "      <td>aspire</td>\n",
       "      <td>es1 523</td>\n",
       "    </tr>\n",
       "    <tr>\n",
       "      <th>910</th>\n",
       "      <td>dell</td>\n",
       "      <td>ultrabook</td>\n",
       "      <td>14.0</td>\n",
       "      <td>8.0</td>\n",
       "      <td>windows 10</td>\n",
       "      <td>1.36</td>\n",
       "      <td>256.0</td>\n",
       "      <td>ssd</td>\n",
       "      <td>False</td>\n",
       "      <td>intel</td>\n",
       "      <td>...</td>\n",
       "      <td>intel</td>\n",
       "      <td>hd graphics</td>\n",
       "      <td>7600u</td>\n",
       "      <td>620</td>\n",
       "      <td>1920x1080</td>\n",
       "      <td>False</td>\n",
       "      <td>full hd</td>\n",
       "      <td>False</td>\n",
       "      <td>latitude</td>\n",
       "      <td>7480</td>\n",
       "    </tr>\n",
       "    <tr>\n",
       "      <th>911</th>\n",
       "      <td>dell</td>\n",
       "      <td>notebook</td>\n",
       "      <td>15.6</td>\n",
       "      <td>8.0</td>\n",
       "      <td>linux</td>\n",
       "      <td>2.30</td>\n",
       "      <td>1000.0</td>\n",
       "      <td>hdd</td>\n",
       "      <td>False</td>\n",
       "      <td>intel</td>\n",
       "      <td>...</td>\n",
       "      <td>amd</td>\n",
       "      <td>radeon r5</td>\n",
       "      <td>7500u</td>\n",
       "      <td>m430</td>\n",
       "      <td>1366x768</td>\n",
       "      <td>False</td>\n",
       "      <td>None</td>\n",
       "      <td>False</td>\n",
       "      <td>inspiron</td>\n",
       "      <td>3567</td>\n",
       "    </tr>\n",
       "  </tbody>\n",
       "</table>\n",
       "<p>912 rows × 22 columns</p>\n",
       "</div>"
      ],
      "text/plain": [
       "     Company            TypeName  Inches   Ram       OpSys  Weight  Capacity  \\\n",
       "0       dell            notebook    15.6   8.0  windows 10    2.36    1000.0   \n",
       "1       asus            notebook    15.6   4.0  windows 10    2.00    1000.0   \n",
       "2    toshiba            notebook    13.3   8.0   windows 7    1.20     256.0   \n",
       "3       dell              gaming    15.6  16.0  windows 10    4.42    1256.0   \n",
       "4       dell           ultrabook    12.5   8.0   windows 7    1.26     256.0   \n",
       "..       ...                 ...     ...   ...         ...     ...       ...   \n",
       "907     acer  2 in 1 convertible    11.6   4.0   chrome os    1.25      32.0   \n",
       "908  toshiba            notebook    13.3   4.0  windows 10    1.20     128.0   \n",
       "909     acer            notebook    15.6   8.0  windows 10    2.40    1000.0   \n",
       "910     dell           ultrabook    14.0   8.0  windows 10    1.36     256.0   \n",
       "911     dell            notebook    15.6   8.0       linux    2.30    1000.0   \n",
       "\n",
       "      Storage Type  Multiple Storage Marca CPU  ...  Marca GPU   Modelo GPU  \\\n",
       "0              hdd             False     intel  ...        amd    radeon r7   \n",
       "1              hdd             False     intel  ...      intel  hd graphics   \n",
       "2              ssd             False     intel  ...      intel  hd graphics   \n",
       "3          ssd/hdd              True     intel  ...     nvidia  geforce gtx   \n",
       "4              ssd             False     intel  ...      intel  hd graphics   \n",
       "..             ...               ...       ...  ...        ...          ...   \n",
       "907  flash storage             False     intel  ...      intel  hd graphics   \n",
       "908            ssd             False     intel  ...      intel  hd graphics   \n",
       "909            hdd             False       amd  ...        amd       radeon   \n",
       "910            ssd             False     intel  ...      intel  hd graphics   \n",
       "911            hdd             False     intel  ...        amd    radeon r5   \n",
       "\n",
       "    Submodelo CPU Submodelo GPU Resolution Panel Type      Quality  \\\n",
       "0           7500u          m445   1366x768      False         None   \n",
       "1           n4200           505   1366x768      False         None   \n",
       "2           6200u           520  1920x1080      False      full hd   \n",
       "3          7700hq          1070  3840x2160      False  4k ultra hd   \n",
       "4           6300u           520  1920x1080      False      full hd   \n",
       "..            ...           ...        ...        ...          ...   \n",
       "907         n3060           400   1366x768      False         None   \n",
       "908         6200u           520  1920x1080      False      full hd   \n",
       "909          7410            r5   1366x768      False         None   \n",
       "910         7600u           620  1920x1080      False      full hd   \n",
       "911         7500u          m430   1366x768      False         None   \n",
       "\n",
       "     Touchscreen      Modelo   Submodelo  \n",
       "0          False    inspiron        5567  \n",
       "1          False      x541na        None  \n",
       "2          False     portege   z30 c 1cw  \n",
       "3          False   alienware          17  \n",
       "4           True    latitude       e7270  \n",
       "..           ...         ...         ...  \n",
       "907         True  chromebook  c738t c2ej  \n",
       "908        False     portege   z30 c 16h  \n",
       "909        False      aspire     es1 523  \n",
       "910        False    latitude        7480  \n",
       "911        False    inspiron        3567  \n",
       "\n",
       "[912 rows x 22 columns]"
      ]
     },
     "execution_count": 15,
     "metadata": {},
     "output_type": "execute_result"
    }
   ],
   "source": [
    "X"
   ]
  },
  {
   "cell_type": "markdown",
   "metadata": {},
   "source": [
    "## Creación de la pipeline"
   ]
  },
  {
   "cell_type": "code",
   "execution_count": 16,
   "metadata": {},
   "outputs": [],
   "source": [
    "# Dividir en conjuntos de entrenamiento y prueba\n",
    "X_train, X_test, y_train, y_test = train_test_split(X, y, test_size=0.2, random_state=42)\n",
    "\n",
    "# Identificar las características numéricas y categóricas\n",
    "numeric_features = X.select_dtypes(include=['int64', 'float64']).columns\n",
    "categorical_features = X.select_dtypes(include=['object']).columns\n",
    "\n",
    "# Crear transformadores para las características numéricas y categóricas\n",
    "numeric_transformer = Pipeline(steps=[\n",
    "    ('scaler', StandardScaler())\n",
    "])\n",
    "\n",
    "categorical_transformer = Pipeline(steps=[\n",
    "    ('onehot', OneHotEncoder(handle_unknown='ignore'))\n",
    "])\n",
    "\n",
    "# Combinar los transformadores en un ColumnTransformer\n",
    "preprocessor = ColumnTransformer(\n",
    "    transformers=[\n",
    "        ('num', numeric_transformer, numeric_features),\n",
    "        ('cat', categorical_transformer, categorical_features)\n",
    "    ])\n"
   ]
  },
  {
   "cell_type": "markdown",
   "metadata": {},
   "source": [
    "#### Pruebas con RF"
   ]
  },
  {
   "cell_type": "code",
   "execution_count": 24,
   "metadata": {},
   "outputs": [
    {
     "name": "stdout",
     "output_type": "stream",
     "text": [
      "Mejores hiperparámetros: {'regressor__bootstrap': False, 'regressor__max_depth': None, 'regressor__max_features': 'sqrt', 'regressor__min_samples_leaf': 1, 'regressor__min_samples_split': 2, 'regressor__n_estimators': 200}\n",
      "Error absoluto medio del modelo: 175.7974606557377\n"
     ]
    }
   ],
   "source": [
    "# Crear la pipeline completa con un modelo de regresión\n",
    "pipeline_1 = Pipeline(steps=[\n",
    "    ('preprocessor', preprocessor),\n",
    "    ('regressor', RandomForestRegressor(n_estimators=100, random_state=42))\n",
    "])\n",
    "\n",
    "# Definir la cuadrícula de hiperparámetros para el RandomForestRegressor\n",
    "param_grid = {\n",
    "    'regressor__n_estimators': [50, 100, 200, 300],       # Número de árboles en el bosque\n",
    "    'regressor__max_depth': [None, 10, 20, 30],           # Profundidad máxima del árbol\n",
    "    'regressor__min_samples_split': [2, 5, 10],           # Número mínimo de muestras necesarias para dividir un nodo\n",
    "    'regressor__min_samples_leaf': [1, 2, 4],             # Número mínimo de muestras necesarias en un nodo hoja\n",
    "    'regressor__max_features': ['auto', 'sqrt', 'log2'],  # Número de características a considerar para la mejor división\n",
    "    'regressor__bootstrap': [True, False]\n",
    "}\n",
    "\n",
    "# Crear el objeto GridSearchCV\n",
    "grid_search = GridSearchCV(pipeline_1, param_grid, cv=5, n_jobs=-1, scoring='neg_mean_absolute_percentage_error')\n",
    "\n",
    "# Ajustar la búsqueda de hiperparámetros en los datos de entrenamiento\n",
    "grid_search.fit(X_train, y_train)\n",
    "\n",
    "# Mejor conjunto de hiperparámetros encontrados\n",
    "print(\"Mejores hiperparámetros:\", grid_search.best_params_)\n",
    "\n",
    "# Realizar predicciones en el conjunto de prueba con el mejor modelo encontrado\n",
    "best_model_1 = grid_search.best_estimator_\n",
    "y_pred_1 = best_model_1.predict(X_test)\n",
    "\n",
    "# Evaluar el modelo\n",
    "mae = mean_absolute_error(y_test, y_pred_1)\n",
    "print(\"Error absoluto medio del modelo:\", mae)"
   ]
  },
  {
   "cell_type": "markdown",
   "metadata": {},
   "source": [
    "#### Pruebas con LightGBM"
   ]
  },
  {
   "cell_type": "code",
   "execution_count": 30,
   "metadata": {},
   "outputs": [],
   "source": [
    "# Crear la pipeline completa con un modelo de regresión\n",
    "pipeline_2 = Pipeline(steps=[\n",
    "    ('preprocessor', preprocessor),\n",
    "    ('regressor', LGBMRegressor(n_estimators=100, random_state=42))\n",
    "])\n",
    "\n",
    "# Definir la cuadrícula de hiperparámetros para el RandomForestRegressor\n",
    "param_grid = {\n",
    "    'regressor__num_leaves': [31, 40, 50],                 # Número máximo de hojas en un árbol\n",
    "    'regressor__max_depth': [-1, 10, 20, 30],              # Profundidad máxima del árbol\n",
    "    'regressor__learning_rate': [0.01, 0.1, 0.2],          # Tasa de aprendizaje\n",
    "    'regressor__n_estimators': [100, 200, 300],            # Número de árboles\n",
    "    'regressor__min_child_samples': [20, 30, 40],          # Número mínimo de muestras en una hoja\n",
    "    'regressor__subsample': [0.6, 0.8, 1.0],               # Fracción de datos para entrenar cada árbol\n",
    "    'regressor__colsample_bytree': [0.6, 0.8, 1.0]         # Fracción de características para entrenar cada árbol\n",
    "}\n",
    "\n",
    "# Crear el objeto GridSearchCV\n",
    "grid_search = GridSearchCV(pipeline_2, param_grid, cv=5, n_jobs = -1, scoring='neg_mean_absolute_percentage_error')\n",
    "\n",
    "# Ajustar la búsqueda de hiperparámetros en los datos de entrenamiento\n",
    "grid_search.fit(X_train, y_train)\n",
    "\n",
    "# Mejor conjunto de hiperparámetros encontrados\n",
    "print(\"Mejores hiperparámetros:\", grid_search.best_params_)\n",
    "\n",
    "# Realizar predicciones en el conjunto de prueba con el mejor modelo encontrado\n",
    "best_model_2 = grid_search.best_estimator_\n",
    "y_pred_2 = best_model_2.predict(X_test)\n",
    "\n",
    "# Evaluar el modelo\n",
    "mae = mean_absolute_error(y_test, y_pred_2)\n",
    "print(\"Error absoluto medio del modelo:\", mae)"
   ]
  },
  {
   "cell_type": "markdown",
   "metadata": {},
   "source": [
    "#### Pruebas con XGBoost"
   ]
  },
  {
   "cell_type": "code",
   "execution_count": 52,
   "metadata": {},
   "outputs": [
    {
     "name": "stdout",
     "output_type": "stream",
     "text": [
      "Mejores hiperparámetros: {'regressor__colsample_bytree': 0.4, 'regressor__learning_rate': 0.05, 'regressor__max_depth': 8, 'regressor__n_estimators': 725, 'regressor__subsample': 0.6}\n",
      "Error absoluto medio del modelo: 142.1035352429666\n"
     ]
    }
   ],
   "source": [
    "# Crear la pipeline completa con un modelo de regresión\n",
    "pipeline_3 = Pipeline(steps=[\n",
    "    ('preprocessor', preprocessor),\n",
    "    ('regressor', XGBRegressor(\n",
    "        alpha=0.000091,                      # Parámetro de regularización L1 (alpha)\n",
    "        reg_lambda=0.000091,                 # Parámetro de regularización L2 (lambda)\n",
    "        gamma=0.000091                       # Parámetro de regularización en la reducción mínima de la pérdida (gamma)\n",
    "    ))\n",
    "])\n",
    "\n",
    "# Definir la cuadrícula de hiperparámetros para el XGBoost\n",
    "param_grid = {\n",
    "    'regressor__n_estimators': [725, 735, 745],\n",
    "    'regressor__max_depth': [7.5, 8, 8.5],\n",
    "    'regressor__learning_rate': [0.05, 0.1, 0.2],\n",
    "    'regressor__subsample': [0.6, 0.8, 1],\n",
    "    'regressor__colsample_bytree': [0.2, 0.4, 0.6],\n",
    "}\n",
    "\n",
    "# Crear el objeto GridSearchCV\n",
    "grid_search = GridSearchCV(pipeline_3, param_grid, cv=5, n_jobs=-1, scoring='neg_mean_absolute_percentage_error')\n",
    "\n",
    "# Ajustar la búsqueda de hiperparámetros en los datos de entrenamiento\n",
    "grid_search.fit(X_train, y_train)\n",
    "\n",
    "# Mejor conjunto de hiperparámetros encontrados\n",
    "print(\"Mejores hiperparámetros:\", grid_search.best_params_)\n",
    "\n",
    "# Realizar predicciones en el conjunto de prueba con el mejor modelo encontrado\n",
    "best_model_3 = grid_search.best_estimator_\n",
    "y_pred_3 = best_model_3.predict(X_test)\n",
    "\n",
    "# Evaluar el modelo\n",
    "mae = mean_absolute_error(y_test, y_pred_3)\n",
    "print(\"Error absoluto medio del modelo:\", mae)"
   ]
  },
  {
   "cell_type": "markdown",
   "metadata": {},
   "source": [
    "- Modelo 1:\n",
    "\n",
    "param_grid = {\n",
    "    'regressor__n_estimators': [300, 600, 900],\n",
    "    'regressor__max_depth': [7, 9, 11],\n",
    "    'regressor__learning_rate': [0.1, 0.2, 0.4, 0.8],\n",
    "    'regressor__subsample': [0.1, 0.2, 0.4, 0.8],\n",
    "    'regressor__colsample_bytree': [0.2, 0.4, 0.8],\n",
    "}\n",
    "\n",
    "neg_mean_absolute_percentage_error\n",
    "\n",
    "Mejores hiperparámetros: {'regressor__colsample_bytree': 0.4, 'regressor__learning_rate': 0.1, 'regressor__max_depth': 9, 'regressor__n_estimators': 600, 'regressor__subsample': 0.8}\n",
    "Error absoluto medio del modelo: 135.14566630712622\n",
    "\n",
    "- Modelo 2:\n",
    "\n",
    "param_grid = {\n",
    "    'regressor__n_estimators': [725, 735, 745],\n",
    "    'regressor__max_depth': [7.5, 8, 8.5],\n",
    "    'regressor__learning_rate': [0.05, 0.1, 0.2],\n",
    "    'regressor__subsample': [0.6, 0.8, 1],\n",
    "    'regressor__colsample_bytree': [0.2, 0.4, 0.6],\n",
    "}\n",
    "\n",
    "Mejores hiperparámetros: {'regressor__colsample_bytree': 0.2, 'regressor__learning_rate': 0.05, 'regressor__max_depth': 8, 'regressor__n_estimators': 735, 'regressor__subsample': 0.6}\n",
    "Error absoluto medio del modelo: 127.55910199941833"
   ]
  },
  {
   "cell_type": "code",
   "execution_count": 142,
   "metadata": {},
   "outputs": [],
   "source": [
    "# Para mirar la matriz de importancias\n",
    "\n",
    "pipeline_3.fit(X_train, y_train)\n",
    "model = pipeline_3.named_steps['regressor']\n",
    "importancias = model.feature_importances_\n",
    "column_names = preprocessor.transformers_[0][1].named_steps['scaler'].get_feature_names_out(numeric_features).tolist()\n",
    "column_names.extend(preprocessor.transformers_[1][1].named_steps['onehot'].get_feature_names_out(categorical_features).tolist())\n",
    "\n",
    "importancias_df = pd.DataFrame({'Características': column_names, 'Importancia': importancias})\n",
    "importancias_df = importancias_df.sort_values(by='Importancia', ascending=False)\n"
   ]
  },
  {
   "cell_type": "markdown",
   "metadata": {},
   "source": [
    "#### Pruebas con CatBoost"
   ]
  },
  {
   "cell_type": "code",
   "execution_count": 67,
   "metadata": {},
   "outputs": [
    {
     "name": "stdout",
     "output_type": "stream",
     "text": [
      "Mejores hiperparámetros: {'regressor__colsample_bylevel': 0.4, 'regressor__depth': 7, 'regressor__iterations': 900, 'regressor__learning_rate': 0.1, 'regressor__subsample': 0.2}\n",
      "Error absoluto medio del modelo: 142.3231006814806\n"
     ]
    }
   ],
   "source": [
    "# Crear la pipeline completa con un modelo de regresión\n",
    "pipeline = Pipeline(steps=[\n",
    "    ('preprocessor', preprocessor),\n",
    "    ('regressor', CatBoostRegressor(random_state=42, silent= True))\n",
    "])\n",
    "\n",
    "# Definir la cuadrícula de hiperparámetros para el CatBoost\n",
    "param_grid = {\n",
    "    'regressor__iterations': [300, 600, 900],\n",
    "    'regressor__depth': [7, 9, 11],\n",
    "    'regressor__learning_rate': [0.1, 0.2, 0.4, 0.8],\n",
    "    'regressor__subsample': [0.1, 0.2, 0.4, 0.8],\n",
    "    'regressor__colsample_bylevel': [0.2, 0.4, 0.8]\n",
    "}\n",
    "\n",
    "# Crear el objeto GridSearchCV\n",
    "grid_search = GridSearchCV(pipeline, param_grid, cv=5, n_jobs=-1, scoring='neg_mean_absolute_percentage_error')\n",
    "\n",
    "# Ajustar la búsqueda de hiperparámetros en los datos de entrenamiento\n",
    "grid_search.fit(X_train, y_train)\n",
    "\n",
    "# Mejor conjunto de hiperparámetros encontrados\n",
    "print(\"Mejores hiperparámetros:\", grid_search.best_params_)\n",
    "\n",
    "# Realizar predicciones en el conjunto de prueba con el mejor modelo encontrado\n",
    "best_model_4 = grid_search.best_estimator_\n",
    "y_pred_4 = best_model_4.predict(X_test)\n",
    "\n",
    "# Evaluar el modelo\n",
    "mae = mean_absolute_error(y_test, y_pred_4)\n",
    "print(\"Error absoluto medio del modelo:\", mae)"
   ]
  },
  {
   "cell_type": "markdown",
   "metadata": {},
   "source": [
    "- Modelo 1:\n",
    "\n",
    "param_grid = {\n",
    "    'regressor__iterations': [300, 600, 900],\n",
    "    'regressor__depth': [7, 9, 11],\n",
    "    'regressor__learning_rate': [0.1, 0.2, 0.4, 0.8],\n",
    "    'regressor__subsample': [0.1, 0.2, 0.4, 0.8],\n",
    "    'regressor__colsample_bylevel': [0.2, 0.4, 0.8]\n",
    "}\n",
    "\n",
    "Mejores hiperparámetros: {'regressor__colsample_bylevel': 0.4, 'regressor__depth': 7, 'regressor__iterations': 900, 'regressor__learning_rate': 0.1, 'regressor__subsample': 0.2}\n",
    "Error absoluto medio del modelo: 142.3231006814806"
   ]
  },
  {
   "cell_type": "markdown",
   "metadata": {},
   "source": [
    "#### Guardar la pipeline"
   ]
  },
  {
   "cell_type": "code",
   "execution_count": 14,
   "metadata": {},
   "outputs": [],
   "source": [
    "import pickle\n",
    "\n",
    "pipeline_entrenada = pipeline_3\n",
    "\n",
    "with open('mi_pipeline_entrenada.pkl', 'wb') as archivo:\n",
    "    pickle.dump(pipeline_entrenada, archivo)"
   ]
  },
  {
   "cell_type": "markdown",
   "metadata": {},
   "source": [
    "------"
   ]
  },
  {
   "cell_type": "markdown",
   "metadata": {},
   "source": [
    "## Limpieza del test"
   ]
  },
  {
   "cell_type": "code",
   "execution_count": 28,
   "metadata": {},
   "outputs": [],
   "source": [
    "test = pd.read_csv(\"./data/test.csv\")"
   ]
  },
  {
   "cell_type": "code",
   "execution_count": 29,
   "metadata": {},
   "outputs": [],
   "source": [
    "test = test.applymap(lambda x: x.lower() if isinstance(x, str) else x)"
   ]
  },
  {
   "cell_type": "code",
   "execution_count": 30,
   "metadata": {},
   "outputs": [],
   "source": [
    "test.Weight = test.Weight.str.replace('kg','',regex=False)\n",
    "test.Weight = test.Weight.astype(float)\n",
    "test.Ram = test.Ram.str.replace('gb','',regex=False)\n",
    "test.Ram = test.Ram.astype(float)"
   ]
  },
  {
   "cell_type": "code",
   "execution_count": 31,
   "metadata": {},
   "outputs": [],
   "source": [
    "test[['Capacity', 'Storage Type', 'Multiple Storage']] = test['Memory'].apply(decompose_info)\n",
    "test[['Marca CPU', 'GHz CPU', 'Modelo CPU']] = test['Cpu'].apply(split_info)\n",
    "test[['Marca GPU', 'Modelo GPU']] = test['Gpu'].apply(split_info_2)\n",
    "test[['Resolution', 'Panel Type', 'Quality', 'Touchscreen']] = test['ScreenResolution'].apply(decompose_info_2)\n",
    "test[['Modelo CPU', 'Submodelo CPU']] = test['Modelo CPU'].str.rsplit(n=1, expand=True)\n",
    "test[['Modelo GPU', 'Submodelo GPU']] = test['Modelo GPU'].str.rsplit(n=1, expand=True)\n",
    "test['GHz CPU'] = test['GHz CPU'].str.replace('ghz','',regex=False)\n",
    "test['GHz CPU'] = test['GHz CPU'].astype(float)\n",
    "test[['Modelo', 'Submodelo']] = test['Product'].str.extract(r'(\\w+)\\s*(.*)')\n",
    "test['Submodelo'] = test['Submodelo'].str.replace('-', ' ').str.split('(').str[0].str.strip()\n",
    "test.replace(r'^\\s*$', None, regex=True, inplace=True)\n",
    "test_copia = test.copy()\n",
    "test = test.drop(columns=['laptop_ID', 'id', 'ScreenResolution', 'Cpu', 'Memory', 'Gpu', 'Product'])"
   ]
  },
  {
   "cell_type": "markdown",
   "metadata": {},
   "source": [
    "- Modelos que he ido guardando"
   ]
  },
  {
   "cell_type": "code",
   "execution_count": 103,
   "metadata": {},
   "outputs": [],
   "source": [
    "modelo_135_xgb = best_model_3"
   ]
  },
  {
   "cell_type": "code",
   "execution_count": 121,
   "metadata": {},
   "outputs": [],
   "source": [
    "modelo_144_cat = best_model_4"
   ]
  },
  {
   "cell_type": "code",
   "execution_count": 136,
   "metadata": {},
   "outputs": [],
   "source": [
    "modelo_140_xgb = best_model_3"
   ]
  },
  {
   "cell_type": "code",
   "execution_count": 162,
   "metadata": {},
   "outputs": [],
   "source": [
    "modelo_134_xgb = best_model_3"
   ]
  },
  {
   "cell_type": "code",
   "execution_count": 182,
   "metadata": {},
   "outputs": [],
   "source": [
    "modelo_129_xgb = best_model_3"
   ]
  },
  {
   "cell_type": "markdown",
   "metadata": {},
   "source": [
    "## Predicciones según modelo"
   ]
  },
  {
   "cell_type": "code",
   "execution_count": 26,
   "metadata": {},
   "outputs": [],
   "source": [
    "predicciones = best_model_1.predict(test) # RF"
   ]
  },
  {
   "cell_type": "code",
   "execution_count": 20,
   "metadata": {},
   "outputs": [
    {
     "name": "stdout",
     "output_type": "stream",
     "text": [
      "[LightGBM] [Warning] Accuracy may be bad since you didn't explicitly set num_leaves OR 2^max_depth > num_leaves. (num_leaves=31).\n"
     ]
    }
   ],
   "source": [
    "predicciones = best_model_2.predict(test) # LGBM"
   ]
  },
  {
   "cell_type": "code",
   "execution_count": 53,
   "metadata": {},
   "outputs": [],
   "source": [
    "predicciones = best_model_3.predict(test) # XGBoost"
   ]
  },
  {
   "cell_type": "code",
   "execution_count": 131,
   "metadata": {},
   "outputs": [],
   "source": [
    "predicciones = modelo_144_cat.predict(test) # CatBoost"
   ]
  },
  {
   "cell_type": "code",
   "execution_count": 54,
   "metadata": {},
   "outputs": [
    {
     "name": "stdout",
     "output_type": "stream",
     "text": [
      "Predicciones:\n",
      "[2081.9062   651.7459   374.27246 1453.9435   952.0001  1258.2832\n",
      " 3032.2249   574.2517  2776.688   2075.4714  1615.0204   482.2794\n",
      "  291.71796  508.13046  428.85703 1285.336    400.26947 1765.8271\n",
      " 1656.4607  1484.6696  1930.9414  1217.9961  1559.5913  1406.3496\n",
      " 2014.2358   393.0148   885.19995  351.38184 1138.4337   550.08154\n",
      "  959.49384 1228.844   1963.0255   346.39606  622.9271  1691.972\n",
      "  815.5621   728.3439  3033.7612   515.4945   677.733    963.1709\n",
      " 1043.9877  2072.654   1147.2684  1796.3359   598.9342  3423.496\n",
      "  266.48804 1208.7861  1073.4264  1020.7538   985.3437   329.93085\n",
      " 1086.77     704.639    646.2219   241.58879 1409.7904  1053.8634\n",
      " 1193.5616  1075.5236   646.1884  1025.0103  1274.9816  1448.261\n",
      "  726.6982  2494.9006   552.9453  2091.9373   941.7196  2595.1077\n",
      " 1830.0138   895.4979  1455.17    1134.7478   826.9813   474.1368\n",
      " 1125.4706  1139.1129   281.19736 1873.0862  1645.6299   945.11786\n",
      " 1228.0387  1417.2676  2182.4578   518.13245 1773.709    576.2124\n",
      "  774.29114  442.79953 1125.0322  1085.568   2020.4277   554.457\n",
      " 2166.421    941.67773  961.1818   614.5795   624.3586   298.0915\n",
      " 1466.2969  1068.1749   824.41876  756.3568   995.2428   821.11926\n",
      " 1378.6063  1477.4642  1185.7909   664.9152   278.68414  719.1089\n",
      "  993.2844  1559.4708   895.84906 1320.8527   649.17505 1621.7133\n",
      "  482.49103 1222.7795   883.15656 1566.092    274.9153  1612.3633\n",
      " 2438.4907  1772.3116  2119.3313   972.67456 1047.6611  1188.3217\n",
      "  338.36942 1596.3796   877.20575  580.79504  344.49887 2294.0764\n",
      " 1236.154    612.49744  626.6833  2054.7708  1645.5288  1362.7633\n",
      " 2895.9707  1304.2079  1095.9205   445.8636  1295.5383  1900.5411\n",
      "  876.64465  735.4334  1436.7623   456.05585 1234.2748  1139.6993\n",
      " 2543.6436   356.27747  469.29565 1280.6027  2242.5413   540.9102\n",
      " 1454.3708  2337.6775  2170.1353  2127.9626  1353.4916  1832.234\n",
      "  756.3568   389.07965 2344.8198  2816.8086  2593.6738   638.465\n",
      " 1950.2643  1426.6499   831.9983  1257.7048  3063.3787  1609.1151\n",
      "  490.11908 2027.8982   534.18805  450.94598  661.7612  1713.7511\n",
      " 1443.6382   864.4247   580.6202  2017.1769  1562.1641   821.3664\n",
      " 1028.286   1698.2483   428.50284 1751.8289  1919.9225   790.0676\n",
      " 1667.1875  1207.6324   772.8429  1573.5159  1169.6978  2449.249\n",
      "  914.8458   329.2607   624.3551   556.9385   793.19836 1932.916\n",
      " 1162.7991   784.4753  1712.5739   896.6191   324.31573 1131.4316\n",
      "  500.40164 1345.9205  1123.2441   703.4591  2373.7622  1006.04504\n",
      " 1703.194   1230.4988  1023.9538  1796.3691  2088.6287   645.39655\n",
      "  476.31396  625.6465   914.77716  814.9517  2444.5579  1043.6508\n",
      " 2106.3652   919.5485  1145.338    975.8213   304.37137  551.1689\n",
      " 2415.6028   672.0346  1176.6975  1071.4429  1603.1534  1376.5745\n",
      " 1045.5782  2303.213    575.84705 1524.6322  1658.4691   972.54645\n",
      " 1941.5414  1298.4436  1817.1506  1113.9033   540.7181  1121.7426\n",
      " 1194.3523  1058.806   1226.1456   732.446    561.9793   627.9214\n",
      " 2065.8352   911.4367  1973.6447  1720.8782   963.57214 1843.0106\n",
      "  710.20557  502.96365 1581.1903  1212.8657   915.2352   312.45572\n",
      " 1495.1453   646.2093  2251.494    726.1639  1679.5304  1124.1703\n",
      "  760.09955  506.6531   278.05643  598.27576 1600.6584   586.37384\n",
      "  778.61707 1250.9778   650.0121  1476.8208  1345.9205  2045.6357\n",
      " 1901.8406   509.54144  893.98267  981.60547 1222.1641   487.62897\n",
      "  777.4168  1008.9269  1173.5016  1629.2202   677.733   2065.2522\n",
      " 1717.967   1968.2407   601.3193   248.82365  973.97034 1397.8711\n",
      "  826.32367  304.39078  423.28766  924.4193  1607.0332  1958.1757\n",
      " 2926.3826  1093.9031  1592.62    1230.0857  2274.917   1976.1\n",
      "  837.7043  1419.7635  1895.925    241.05191  587.3942   329.2607\n",
      " 1014.4994   334.06668 1024.194    390.75604  560.5508   774.72516\n",
      " 1657.5076  1224.9158   292.93863  834.09326  538.3127  2520.0303\n",
      "  247.52591 1728.6254   742.1855   683.74554  680.49817 1268.0575\n",
      " 1563.9646  1264.363   1050.8075  1176.2848   429.45203 2005.4542\n",
      "  963.1289   466.99445  784.2271  1742.9073   497.74765 1667.555\n",
      "  435.78928 2648.0635   533.77856 1639.2472  1461.6257   693.61285\n",
      "  698.8147  1491.5356   735.449    517.33203  482.6061  1350.1564\n",
      "  818.11896  940.9014   225.37445 1395.7765  1130.3866   469.1693\n",
      "  844.8445   969.1066  1167.4519   338.66818 1150.763    356.44122\n",
      " 2086.5654   577.0311  1036.767   1806.8962   574.1477   417.30753\n",
      " 1353.5626 ]\n"
     ]
    }
   ],
   "source": [
    "# Mostrar las predicciones\n",
    "print(\"Predicciones:\")\n",
    "print(predicciones)"
   ]
  },
  {
   "cell_type": "markdown",
   "metadata": {},
   "source": [
    "#### Crear df y pasarlo a formato csv"
   ]
  },
  {
   "cell_type": "code",
   "execution_count": 56,
   "metadata": {},
   "outputs": [],
   "source": [
    "df_final_post_2 = pd.DataFrame(data={'id': test_copia['id'], 'Price_euros': predicciones})"
   ]
  },
  {
   "cell_type": "code",
   "execution_count": 57,
   "metadata": {},
   "outputs": [],
   "source": [
    "df_final_post_2.to_csv('hola_post_2.csv', header=True, index= False)"
   ]
  },
  {
   "cell_type": "markdown",
   "metadata": {},
   "source": [
    "-----"
   ]
  }
 ],
 "metadata": {
  "kernelspec": {
   "display_name": "Python 3",
   "language": "python",
   "name": "python3"
  },
  "language_info": {
   "codemirror_mode": {
    "name": "ipython",
    "version": 3
   },
   "file_extension": ".py",
   "mimetype": "text/x-python",
   "name": "python",
   "nbconvert_exporter": "python",
   "pygments_lexer": "ipython3",
   "version": "3.12.1"
  }
 },
 "nbformat": 4,
 "nbformat_minor": 2
}
